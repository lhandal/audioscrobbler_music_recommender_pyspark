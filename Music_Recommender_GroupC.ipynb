{
 "cells": [
  {
   "cell_type": "markdown",
   "metadata": {},
   "source": [
    "![IE HST Logo](data:image/png;base64,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)"
   ]
  },
  {
   "cell_type": "markdown",
   "metadata": {},
   "source": [
    "\n",
    "# Spark - Final Assignment\n",
    "##  Music Recommender for Audioscrobbler.com\n",
    "\n",
    "### Group C:\n",
    "- Leandro Handal\n",
    "- Philippe El Hage\n",
    "- Daan Pelt\n",
    "- Julius Oldorf\n",
    "- Mohammed El Charif\n",
    "- Meredith Hayward\n",
    "- Yub Hahm\n",
    "\n"
   ]
  },
  {
   "cell_type": "markdown",
   "metadata": {
    "colab_type": "text",
    "id": "3T3_FYC4ZBBE"
   },
   "source": [
    "### Music Listening Dataset\n",
    "### Audioscrobbler.com\n",
    "#### 6 May 2005\n",
    "\n",
    "This data set contains profiles for around 150,000 real people\n",
    "The dataset lists the artists each person listens to, and a counter\n",
    "indicating how many times each user played each artist\n",
    "\n",
    "The dataset is continually growing; at the time of writing (6 May 2005) \n",
    "Audioscrobbler is receiving around 2 million song submissions per day\n",
    "\n",
    "We may produce additional/extended data dumps if anyone is interested \n",
    "in experimenting with the data. \n",
    "\n",
    "Please let us know if you do anything useful with this data, we're always\n",
    "up for new ways to visualize it or analyse/cluster it etc :)\n",
    "\n",
    "\n",
    "#### License\n",
    "\n",
    "This data is made available under the following Creative Commons license:\n",
    "http://creativecommons.org/licenses/by-nc-sa/1.0/\n",
    "\n",
    "\n",
    "#### Files\n",
    "\n",
    "user_artist_data.txt\n",
    "   - 3 columns: userid artistid playcount\n",
    "\n",
    "artist_data.txt\n",
    "   - 2 columns: artistid artist_name\n",
    "\n",
    "artist_alias.txt\n",
    "   - 2 columns: badid, goodid\n",
    "    known incorrectly spelt artists and the correct artist id. \n",
    "    you can correct errors in user_artist_data as you read it in using this file\n",
    "    (we're not yet finished merging this data)\n",
    "    \n",
    "    \n",
    "Contact Info\n",
    "<rj@audioscrobbler.com>\n",
    "irc://irc.audioscrobbler.com/audioscrobbler"
   ]
  },
  {
   "cell_type": "markdown",
   "metadata": {
    "colab_type": "text",
    "id": "NwU28K5f1H3P"
   },
   "source": [
    "## Start a SparkSession\n",
    "This will start a local Spark session."
   ]
  },
  {
   "cell_type": "code",
   "execution_count": 151,
   "metadata": {
    "ExecuteTime": {
     "end_time": "2019-03-13T23:34:29.347794Z",
     "start_time": "2019-03-13T23:34:29.339655Z"
    }
   },
   "outputs": [],
   "source": [
    "import numpy as np\n",
    "import pandas as pd\n",
    "import matplotlib as plt\n",
    "import seaborn as sns\n",
    "import matplotlib.pylab as plt\n",
    "%matplotlib inline\n",
    "import warnings\n",
    "warnings.filterwarnings('ignore')\n",
    "from ipywidgets import interact, interactive, fixed, interact_manual\n",
    "import ipywidgets as widgets"
   ]
  },
  {
   "cell_type": "code",
   "execution_count": 2,
   "metadata": {
    "ExecuteTime": {
     "end_time": "2019-03-13T22:31:07.062773Z",
     "start_time": "2019-03-13T22:31:02.913123Z"
    },
    "colab": {},
    "colab_type": "code",
    "id": "zgReRGl0y23D"
   },
   "outputs": [],
   "source": [
    "from pyspark.sql import SparkSession\n",
    "\n",
    "spark = SparkSession.builder.getOrCreate()\n",
    "spark.conf.set(\"spark.sql.shuffle.partitions\",\"5\")"
   ]
  },
  {
   "cell_type": "markdown",
   "metadata": {
    "colab_type": "text",
    "id": "TaRpCB8w5Rar"
   },
   "source": [
    "## Load Datasets\n",
    "Load and inspect Datasets. We load the three available datasets `user_artist_data.txt`, `artist_data.txt` and `artist_alias.txt`"
   ]
  },
  {
   "cell_type": "code",
   "execution_count": 74,
   "metadata": {
    "ExecuteTime": {
     "end_time": "2019-03-13T23:02:24.011079Z",
     "start_time": "2019-03-13T23:02:24.008219Z"
    },
    "colab": {},
    "colab_type": "code",
    "id": "nuZdAeJhLCJh"
   },
   "outputs": [],
   "source": [
    "from pyspark.sql.types import StructField, StringType, IntegerType, StructType, ByteType"
   ]
  },
  {
   "cell_type": "code",
   "execution_count": 75,
   "metadata": {
    "ExecuteTime": {
     "end_time": "2019-03-13T23:02:30.367726Z",
     "start_time": "2019-03-13T23:02:24.013843Z"
    },
    "colab": {},
    "colab_type": "code",
    "id": "MGnUQavDvh69"
   },
   "outputs": [],
   "source": [
    "data = spark.read.csv('./profiledata_06-May-2005/user_artist_data.txt', sep=' ', inferSchema = True)"
   ]
  },
  {
   "cell_type": "code",
   "execution_count": 76,
   "metadata": {
    "ExecuteTime": {
     "end_time": "2019-03-13T23:02:30.382059Z",
     "start_time": "2019-03-13T23:02:30.370255Z"
    },
    "colab": {},
    "colab_type": "code",
    "id": "LsX6HcHOJfxV"
   },
   "outputs": [],
   "source": [
    "customSchemaArtists = StructType([ \\\n",
    "    StructField(\"artistid\", IntegerType(), True), \\\n",
    "    StructField(\"name\", StringType(), True)])\n",
    "\n",
    "artists = spark.read.csv('./profiledata_06-May-2005/artist_data.txt', sep='\\t', schema = customSchemaArtists)\n"
   ]
  },
  {
   "cell_type": "code",
   "execution_count": 77,
   "metadata": {
    "ExecuteTime": {
     "end_time": "2019-03-13T23:02:30.675331Z",
     "start_time": "2019-03-13T23:02:30.386140Z"
    },
    "colab": {},
    "colab_type": "code",
    "id": "pfxpeTqxJf-O"
   },
   "outputs": [],
   "source": [
    "aliases = spark.read.csv('./profiledata_06-May-2005/artist_alias.txt', sep='\\t', inferSchema=True)\n",
    "aliases = aliases.withColumnRenamed(\"_c0\", \"mispelledid\").withColumnRenamed(\"_c1\", \"artistid\")"
   ]
  },
  {
   "cell_type": "code",
   "execution_count": 78,
   "metadata": {
    "ExecuteTime": {
     "end_time": "2019-03-13T23:02:30.682510Z",
     "start_time": "2019-03-13T23:02:30.676941Z"
    },
    "colab": {},
    "colab_type": "code",
    "id": "lJkTqsPv5uWo"
   },
   "outputs": [],
   "source": [
    "data = data.withColumnRenamed(\"_c0\", \"userid\").withColumnRenamed(\"_c1\", \"artistid\").withColumnRenamed(\"_c2\", \"plays\")"
   ]
  },
  {
   "cell_type": "code",
   "execution_count": 79,
   "metadata": {
    "ExecuteTime": {
     "end_time": "2019-03-13T23:02:37.093800Z",
     "start_time": "2019-03-13T23:02:30.684113Z"
    },
    "colab": {},
    "colab_type": "code",
    "id": "V4kC9ne_xEyZ"
   },
   "outputs": [
    {
     "name": "stdout",
     "output_type": "stream",
     "text": [
      "+-------+------------------+------------------+-----------------+\n",
      "|summary|            userid|          artistid|            plays|\n",
      "+-------+------------------+------------------+-----------------+\n",
      "|  count|          24296858|          24296858|         24296858|\n",
      "|   mean|1947573.2653533637|1718704.0937568964|15.29576248089362|\n",
      "| stddev| 496000.5551819092| 2539389.092428337|153.9153244697962|\n",
      "|    min|                90|                 1|                1|\n",
      "|    max|           2443548|          10794401|           439771|\n",
      "+-------+------------------+------------------+-----------------+\n",
      "\n"
     ]
    }
   ],
   "source": [
    "data.describe().show()"
   ]
  },
  {
   "cell_type": "markdown",
   "metadata": {},
   "source": [
    "## Removing Outliers"
   ]
  },
  {
   "cell_type": "markdown",
   "metadata": {},
   "source": [
    "This is doing two things: \n",
    "1. Clipping the lower tail for our ALS algorithm to work better, since in order to have recommendations in collaborative filtering, we need to know our users preferences. Therefore any user with less than 5 plays of an artist is no good to predict.\n",
    "\n",
    "\n",
    "2. Removing the right tail outliers that skew our data and may bias our analysis."
   ]
  },
  {
   "cell_type": "code",
   "execution_count": 80,
   "metadata": {
    "ExecuteTime": {
     "end_time": "2019-03-13T23:02:37.128729Z",
     "start_time": "2019-03-13T23:02:37.096261Z"
    },
    "colab": {},
    "colab_type": "code",
    "id": "K1ioMNG52Glq"
   },
   "outputs": [],
   "source": [
    "subset = data.filter((data['plays'] >= 5) & (data['plays'] <= 1000))"
   ]
  },
  {
   "cell_type": "code",
   "execution_count": 81,
   "metadata": {
    "ExecuteTime": {
     "end_time": "2019-03-13T23:02:43.394856Z",
     "start_time": "2019-03-13T23:02:37.130681Z"
    },
    "colab": {},
    "colab_type": "code",
    "id": "fgxADUVK2nOY"
   },
   "outputs": [
    {
     "name": "stdout",
     "output_type": "stream",
     "text": [
      "+-------+------------------+------------------+-----------------+\n",
      "|summary|            userid|          artistid|            plays|\n",
      "+-------+------------------+------------------+-----------------+\n",
      "|  count|           9307579|           9307579|          9307579|\n",
      "|   mean| 1939013.336777265|1319484.9944439903|33.86969006655759|\n",
      "| stddev|490854.13913763873|2015181.4148142822|66.60665066398167|\n",
      "|    min|                90|                 1|                5|\n",
      "|    max|           2443507|          10794325|             1000|\n",
      "+-------+------------------+------------------+-----------------+\n",
      "\n"
     ]
    }
   ],
   "source": [
    "subset.describe().show()"
   ]
  },
  {
   "cell_type": "code",
   "execution_count": 82,
   "metadata": {
    "ExecuteTime": {
     "end_time": "2019-03-13T23:02:43.462038Z",
     "start_time": "2019-03-13T23:02:43.398446Z"
    },
    "colab": {},
    "colab_type": "code",
    "id": "EBNoNCjd4Zjy"
   },
   "outputs": [
    {
     "name": "stdout",
     "output_type": "stream",
     "text": [
      "+-------+--------+-----+\n",
      "| userid|artistid|plays|\n",
      "+-------+--------+-----+\n",
      "|1000002|       1|   55|\n",
      "|1000002| 1000006|   33|\n",
      "|1000002| 1000007|    8|\n",
      "|1000002| 1000009|  144|\n",
      "|1000002| 1000010|  314|\n",
      "|1000002| 1000013|    8|\n",
      "|1000002| 1000014|   42|\n",
      "|1000002| 1000017|   69|\n",
      "|1000002| 1000024|  329|\n",
      "|1000002| 1000028|   17|\n",
      "|1000002| 1000031|   47|\n",
      "|1000002| 1000033|   15|\n",
      "|1000002| 1000055|   25|\n",
      "|1000002| 1000062|   71|\n",
      "|1000002| 1000088|  157|\n",
      "|1000002| 1000099|   57|\n",
      "|1000002| 1000113|   30|\n",
      "|1000002| 1000123|   27|\n",
      "|1000002| 1000127|   53|\n",
      "|1000002| 1000139|   56|\n",
      "+-------+--------+-----+\n",
      "only showing top 20 rows\n",
      "\n"
     ]
    }
   ],
   "source": [
    "subset.show()"
   ]
  },
  {
   "cell_type": "markdown",
   "metadata": {},
   "source": [
    "## Check Skewness"
   ]
  },
  {
   "cell_type": "markdown",
   "metadata": {},
   "source": [
    "We now check the skewness of our target variable to see if we will have to transform it later on."
   ]
  },
  {
   "cell_type": "code",
   "execution_count": 83,
   "metadata": {
    "ExecuteTime": {
     "end_time": "2019-03-13T23:02:50.206892Z",
     "start_time": "2019-03-13T23:02:43.465880Z"
    }
   },
   "outputs": [],
   "source": [
    "subset_pd = subset.sample(withReplacement=False, fraction=0.01, seed=42).toPandas()"
   ]
  },
  {
   "cell_type": "code",
   "execution_count": 84,
   "metadata": {
    "ExecuteTime": {
     "end_time": "2019-03-13T23:02:50.485318Z",
     "start_time": "2019-03-13T23:02:50.208246Z"
    },
    "scrolled": false
   },
   "outputs": [
    {
     "data": {
      "image/png": "[encoded data removed]",
      "text/plain": [
       "<Figure size 1080x432 with 1 Axes>"
      ]
     },
     "metadata": {
      "needs_background": "light"
     },
     "output_type": "display_data"
    }
   ],
   "source": [
    "plt.subplots(figsize=(15, 6))\n",
    "sns.distplot(subset_pd.plays)\n",
    "plt.grid(which=\"major\", axis=\"y\")\n",
    "plt.xlabel(\"Play Count\", size=14)\n",
    "plt.title(\"Play Count Distribution\", size=16);"
   ]
  },
  {
   "cell_type": "code",
   "execution_count": 85,
   "metadata": {
    "ExecuteTime": {
     "end_time": "2019-03-13T23:02:50.489799Z",
     "start_time": "2019-03-13T23:02:50.486830Z"
    },
    "colab": {},
    "colab_type": "code",
    "id": "a50yutHY5Wt1"
   },
   "outputs": [],
   "source": [
    "from pyspark.sql.functions import isnan, when, count, col, log1p, expm1, instr"
   ]
  },
  {
   "cell_type": "markdown",
   "metadata": {},
   "source": [
    "## Null Values"
   ]
  },
  {
   "cell_type": "markdown",
   "metadata": {},
   "source": [
    "Checking if there is any null values in any of the columns of our dataset."
   ]
  },
  {
   "cell_type": "code",
   "execution_count": 86,
   "metadata": {
    "ExecuteTime": {
     "end_time": "2019-03-13T23:02:56.694093Z",
     "start_time": "2019-03-13T23:02:50.491213Z"
    },
    "colab": {},
    "colab_type": "code",
    "id": "pk_XwKNg6ps8"
   },
   "outputs": [
    {
     "name": "stdout",
     "output_type": "stream",
     "text": [
      "+------+--------+-----+\n",
      "|userid|artistid|plays|\n",
      "+------+--------+-----+\n",
      "|     0|       0|    0|\n",
      "+------+--------+-----+\n",
      "\n"
     ]
    }
   ],
   "source": [
    "subset.select([count(when(isnan(c), c)).alias(c) for c in data.columns]).show()"
   ]
  },
  {
   "cell_type": "code",
   "execution_count": 87,
   "metadata": {
    "ExecuteTime": {
     "end_time": "2019-03-13T23:02:56.701917Z",
     "start_time": "2019-03-13T23:02:56.695941Z"
    },
    "colab": {},
    "colab_type": "code",
    "id": "qaJerW1u8f0x"
   },
   "outputs": [
    {
     "data": {
      "text/plain": [
       "<bound method DataFrame.printSchema of DataFrame[userid: int, artistid: int, plays: int]>"
      ]
     },
     "execution_count": 87,
     "metadata": {},
     "output_type": "execute_result"
    }
   ],
   "source": [
    "subset.printSchema"
   ]
  },
  {
   "cell_type": "markdown",
   "metadata": {},
   "source": [
    "## Combination of Datasets"
   ]
  },
  {
   "cell_type": "code",
   "execution_count": 88,
   "metadata": {
    "ExecuteTime": {
     "end_time": "2019-03-13T23:02:56.758543Z",
     "start_time": "2019-03-13T23:02:56.703491Z"
    },
    "colab": {},
    "colab_type": "code",
    "id": "AjCokS20Jf09"
   },
   "outputs": [
    {
     "name": "stdout",
     "output_type": "stream",
     "text": [
      "+--------+--------------------+\n",
      "|artistid|                name|\n",
      "+--------+--------------------+\n",
      "| 1134999|        06Crazy Life|\n",
      "| 6821360|        Pang Nakarin|\n",
      "|10113088|Terfel, Bartoli- ...|\n",
      "|10151459| The Flaming Sidebur|\n",
      "| 6826647|   Bodenstandig 3000|\n",
      "|10186265|Jota Quest e Ivet...|\n",
      "| 6828986|       Toto_XX (1977|\n",
      "|10236364|         U.S Bombs -|\n",
      "| 1135000|artist formaly kn...|\n",
      "|10299728|Kassierer - Musik...|\n",
      "|10299744|         Rahzel, RZA|\n",
      "| 6864258|      Jon Richardson|\n",
      "| 6878791|Young Fresh Fello...|\n",
      "|10299751|          Ki-ya-Kiss|\n",
      "| 6909716|Underminded - The...|\n",
      "|10435121|             Kox-Box|\n",
      "| 6918061|  alexisonfire [wo!]|\n",
      "| 1135001|         dj salinger|\n",
      "| 6940391|The B52's - Chann...|\n",
      "|10475396|             44 Hoes|\n",
      "+--------+--------------------+\n",
      "only showing top 20 rows\n",
      "\n"
     ]
    }
   ],
   "source": [
    "artists.show()"
   ]
  },
  {
   "cell_type": "code",
   "execution_count": 89,
   "metadata": {
    "ExecuteTime": {
     "end_time": "2019-03-13T23:02:58.917459Z",
     "start_time": "2019-03-13T23:02:56.760894Z"
    },
    "colab": {},
    "colab_type": "code",
    "id": "WdCzOxUpJf4T"
   },
   "outputs": [
    {
     "name": "stdout",
     "output_type": "stream",
     "text": [
      "+-------+-----------------+---------------+\n",
      "|summary|         artistid|           name|\n",
      "+-------+-----------------+---------------+\n",
      "|  count|          1848281|        1848282|\n",
      "|   mean|7028265.171776369|       Infinity|\n",
      "| stddev|3753055.545402783|            NaN|\n",
      "|    min|                1|              \u0001|\n",
      "|    max|         10794305|￿￿￿￿￿￿￿￿￿￿￿￿くȁ|\n",
      "+-------+-----------------+---------------+\n",
      "\n"
     ]
    }
   ],
   "source": [
    "artists.describe().show()"
   ]
  },
  {
   "cell_type": "markdown",
   "metadata": {},
   "source": [
    "### Misspelled IDs"
   ]
  },
  {
   "cell_type": "markdown",
   "metadata": {},
   "source": [
    "As we can see here, most artists have mispelled IDs, for example we take the band Aerosmith. We can see it repeats itself various times having different IDs, which may bias our predictions."
   ]
  },
  {
   "cell_type": "code",
   "execution_count": 90,
   "metadata": {
    "ExecuteTime": {
     "end_time": "2019-03-13T23:02:58.934669Z",
     "start_time": "2019-03-13T23:02:58.919499Z"
    },
    "colab": {},
    "colab_type": "code",
    "id": "dhakpQChMiuT"
   },
   "outputs": [],
   "source": [
    "artists.createOrReplaceTempView(\"artists\")\n",
    "\n",
    "sqlDF = spark.sql(\"SELECT * FROM artists where name like 'Aerosmith%'\")"
   ]
  },
  {
   "cell_type": "code",
   "execution_count": 91,
   "metadata": {
    "ExecuteTime": {
     "end_time": "2019-03-13T23:02:59.161762Z",
     "start_time": "2019-03-13T23:02:58.936266Z"
    },
    "colab": {},
    "colab_type": "code",
    "id": "brtPysfVNT0U",
    "scrolled": false
   },
   "outputs": [
    {
     "name": "stdout",
     "output_type": "stream",
     "text": [
      "+--------+--------------------+\n",
      "|artistid|                name|\n",
      "+--------+--------------------+\n",
      "| 6946007|    Aerosmith/RunDMC|\n",
      "|10475683|Aerosmith: Just P...|\n",
      "| 1083031|    Aerosmith/ G n R|\n",
      "| 2027746|Aerosmith by Musi...|\n",
      "|10237208| Aerosmith + Run DMC|\n",
      "|10588537|Aerosmith, Kid Ro...|\n",
      "| 9934757|Aerosmith - Big Ones|\n",
      "|10479781|      Aerosmith Hits|\n",
      "| 7032554|Aerosmith & Run-D...|\n",
      "|10033592|          Aerosmith?|\n",
      "|10594066|Aerosmith - JPP - 07|\n",
      "|10594406|Aerosmith - JPP - 04|\n",
      "|10482681|Aerosmith - O, Ye...|\n",
      "|10033746| Aerosmith/Aerosmith|\n",
      "| 1267101|Aerosmith With Bo...|\n",
      "| 1269416|  Aerosmith & RunDmc|\n",
      "|10441202|Aerosmith With Le...|\n",
      "|10239445|   Aerosmith - [EMG]|\n",
      "| 1157432|Aerosmith (Pandor...|\n",
      "| 9935381|Aerosmith - Nine ...|\n",
      "+--------+--------------------+\n",
      "only showing top 20 rows\n",
      "\n"
     ]
    }
   ],
   "source": [
    "sqlDF.show()"
   ]
  },
  {
   "cell_type": "code",
   "execution_count": 92,
   "metadata": {
    "ExecuteTime": {
     "end_time": "2019-03-13T23:03:01.217298Z",
     "start_time": "2019-03-13T23:02:59.163573Z"
    },
    "colab": {},
    "colab_type": "code",
    "id": "dJRjcnbTJf7V"
   },
   "outputs": [
    {
     "name": "stdout",
     "output_type": "stream",
     "text": [
      "+--------+---------+\n",
      "|artistid|     name|\n",
      "+--------+---------+\n",
      "| 1000010|Aerosmith|\n",
      "+--------+---------+\n",
      "\n",
      "+--------+------------+\n",
      "|artistid|        name|\n",
      "+--------+------------+\n",
      "| 2082323|01 Aerosmith|\n",
      "+--------+------------+\n",
      "\n"
     ]
    }
   ],
   "source": [
    "artists[artists.artistid==1000010].show()\n",
    "artists[artists.artistid==2082323].show()"
   ]
  },
  {
   "cell_type": "code",
   "execution_count": 93,
   "metadata": {
    "ExecuteTime": {
     "end_time": "2019-03-13T23:03:01.739556Z",
     "start_time": "2019-03-13T23:03:01.218845Z"
    },
    "colab": {},
    "colab_type": "code",
    "id": "6tRHAg4RJgBQ",
    "scrolled": true
   },
   "outputs": [
    {
     "name": "stdout",
     "output_type": "stream",
     "text": [
      "+-----------+--------+\n",
      "|mispelledid|artistid|\n",
      "+-----------+--------+\n",
      "+-----------+--------+\n",
      "\n",
      "+-----------+--------+\n",
      "|mispelledid|artistid|\n",
      "+-----------+--------+\n",
      "|    2082323| 1000010|\n",
      "+-----------+--------+\n",
      "\n"
     ]
    }
   ],
   "source": [
    "aliases[aliases.mispelledid==1000010].show()\n",
    "aliases[aliases.mispelledid==2082323].show()"
   ]
  },
  {
   "cell_type": "markdown",
   "metadata": {},
   "source": [
    "We here create a function, to check if an ID is standard or it has a misspelled double."
   ]
  },
  {
   "cell_type": "code",
   "execution_count": 94,
   "metadata": {
    "ExecuteTime": {
     "end_time": "2019-03-13T23:03:01.744546Z",
     "start_time": "2019-03-13T23:03:01.741566Z"
    }
   },
   "outputs": [],
   "source": [
    "def is_standard(id1):\n",
    "    \"\"\"Return True is the ID is not in the mispelledID column of artistAliasDF\"\"\"\n",
    "    if aliases[aliases.mispelledid==id1].collect()==[]:\n",
    "        return True\n",
    "    else:\n",
    "        return False"
   ]
  },
  {
   "cell_type": "markdown",
   "metadata": {},
   "source": [
    "Check if the function runs correctly."
   ]
  },
  {
   "cell_type": "code",
   "execution_count": 95,
   "metadata": {
    "ExecuteTime": {
     "end_time": "2019-03-13T23:03:02.829817Z",
     "start_time": "2019-03-13T23:03:01.746051Z"
    },
    "scrolled": true
   },
   "outputs": [
    {
     "name": "stdout",
     "output_type": "stream",
     "text": [
      "+--------+\n",
      "|artistid|\n",
      "+--------+\n",
      "|10586963|\n",
      "+--------+\n",
      "\n"
     ]
    },
    {
     "data": {
      "text/plain": [
       "True"
      ]
     },
     "execution_count": 95,
     "metadata": {},
     "output_type": "execute_result"
    }
   ],
   "source": [
    "name1 = \"Green Day - Oasis - Eminem - Aerosmith\"\n",
    "id1 = artists[artists.name==name1].select('artistid').show(1)\n",
    "is_standard(id1)"
   ]
  },
  {
   "cell_type": "markdown",
   "metadata": {},
   "source": [
    "### Join Datasets"
   ]
  },
  {
   "cell_type": "markdown",
   "metadata": {},
   "source": [
    "Now we will join the datasets to be able to see exactly which `artistID` is which. We will use the previous function to map and replace misspelled IDs with the correct ones. This will help with our predictions since the same artist coul have had different IDs and therefore being counted less for the rating."
   ]
  },
  {
   "cell_type": "code",
   "execution_count": 96,
   "metadata": {
    "ExecuteTime": {
     "end_time": "2019-03-13T23:03:02.856756Z",
     "start_time": "2019-03-13T23:03:02.831227Z"
    }
   },
   "outputs": [],
   "source": [
    "subset[subset.artistid==id1].collect()\n",
    "strangeuserid=subset[subset.artistid==id1].userid\n",
    "strangeUserActivity = subset[subset.userid==strangeuserid]\n",
    "artists = strangeUserActivity.join(artists, on=\"artistid\")"
   ]
  },
  {
   "cell_type": "code",
   "execution_count": 97,
   "metadata": {
    "ExecuteTime": {
     "end_time": "2019-03-13T23:03:16.487453Z",
     "start_time": "2019-03-13T23:03:02.858451Z"
    },
    "colab": {},
    "colab_type": "code",
    "id": "dJRjcnbTJf7V"
   },
   "outputs": [
    {
     "name": "stdout",
     "output_type": "stream",
     "text": [
      "+--------+-------+-----+---------+\n",
      "|artistid| userid|plays|     name|\n",
      "+--------+-------+-----+---------+\n",
      "| 1000010|1000002|  314|Aerosmith|\n",
      "| 1000010|1000019|   11|Aerosmith|\n",
      "| 1000010|1000022|   78|Aerosmith|\n",
      "| 1000010|1000025|   50|Aerosmith|\n",
      "| 1000010|1000028|   29|Aerosmith|\n",
      "| 1000010|1000060|    6|Aerosmith|\n",
      "| 1000010|1000071|    9|Aerosmith|\n",
      "| 1000010|1000092|    8|Aerosmith|\n",
      "| 1000010|1000098|    7|Aerosmith|\n",
      "| 1000010|1000180|   25|Aerosmith|\n",
      "| 1000010|1000239|   13|Aerosmith|\n",
      "| 1000010|1000241|   17|Aerosmith|\n",
      "| 1000010|1000246|   10|Aerosmith|\n",
      "| 1000010|1000288|   41|Aerosmith|\n",
      "| 1000010|1000326|   10|Aerosmith|\n",
      "| 1000010|1000346|   29|Aerosmith|\n",
      "| 1000010|1000356|   22|Aerosmith|\n",
      "| 1000010|1000376|    5|Aerosmith|\n",
      "| 1000010|1000471|    9|Aerosmith|\n",
      "| 1000010|1000509|   17|Aerosmith|\n",
      "+--------+-------+-----+---------+\n",
      "only showing top 20 rows\n",
      "\n",
      "+--------+------+-----+----+\n",
      "|artistid|userid|plays|name|\n",
      "+--------+------+-----+----+\n",
      "+--------+------+-----+----+\n",
      "\n"
     ]
    }
   ],
   "source": [
    "artists[artists.artistid==1000010].show()\n",
    "artists[artists.artistid==2082323].show()"
   ]
  },
  {
   "cell_type": "code",
   "execution_count": 98,
   "metadata": {
    "ExecuteTime": {
     "end_time": "2019-03-13T23:03:39.743051Z",
     "start_time": "2019-03-13T23:03:16.488991Z"
    },
    "scrolled": true
   },
   "outputs": [
    {
     "name": "stdout",
     "output_type": "stream",
     "text": [
      "+-------+------------------+------------------+-----------------+--------------+\n",
      "|summary|          artistid|            userid|            plays|          name|\n",
      "+-------+------------------+------------------+-----------------+--------------+\n",
      "|  count|           9306376|           9306376|          9306376|       9306168|\n",
      "|   mean|1319277.8503197164|1939115.8133319565|33.87218537054596|      Infinity|\n",
      "| stddev| 2015061.840234866| 490788.6269733193|66.61000116270132|           NaN|\n",
      "|    min|                 1|                90|                5|            \u0019Z|\n",
      "|    max|          10794235|           2443507|             1000|￾氀挀 渀䌀愀渀|\n",
      "+-------+------------------+------------------+-----------------+--------------+\n",
      "\n"
     ]
    }
   ],
   "source": [
    "subset = artists\n",
    "subset.describe().show()"
   ]
  },
  {
   "cell_type": "markdown",
   "metadata": {},
   "source": [
    "## Scaling Target Variable"
   ]
  },
  {
   "cell_type": "markdown",
   "metadata": {},
   "source": [
    "We tried scaling the target variable, but the results were way worse."
   ]
  },
  {
   "cell_type": "code",
   "execution_count": 28,
   "metadata": {
    "ExecuteTime": {
     "end_time": "2019-03-13T22:32:22.734550Z",
     "start_time": "2019-03-13T22:32:22.731505Z"
    }
   },
   "outputs": [],
   "source": [
    "#from pyspark.ml.feature import StandardScaler"
   ]
  },
  {
   "cell_type": "code",
   "execution_count": 29,
   "metadata": {
    "ExecuteTime": {
     "end_time": "2019-03-13T22:32:22.743421Z",
     "start_time": "2019-03-13T22:32:22.737435Z"
    }
   },
   "outputs": [],
   "source": [
    "#scaler = StandardScaler(inputCol='plays', outputCol='scaled_plays')"
   ]
  },
  {
   "cell_type": "code",
   "execution_count": 30,
   "metadata": {
    "ExecuteTime": {
     "end_time": "2019-03-13T22:32:22.749511Z",
     "start_time": "2019-03-13T22:32:22.746459Z"
    }
   },
   "outputs": [],
   "source": [
    "#subset = subset.withColumn('norm_plays', (subset[\"plays\"]-5)/(1000-5))"
   ]
  },
  {
   "cell_type": "code",
   "execution_count": 31,
   "metadata": {
    "ExecuteTime": {
     "end_time": "2019-03-13T22:32:22.754778Z",
     "start_time": "2019-03-13T22:32:22.752275Z"
    }
   },
   "outputs": [],
   "source": [
    "#subset.describe().show()"
   ]
  },
  {
   "cell_type": "markdown",
   "metadata": {},
   "source": [
    "This didn't work :("
   ]
  },
  {
   "cell_type": "markdown",
   "metadata": {},
   "source": [
    "## Log-transform Target Variable"
   ]
  },
  {
   "cell_type": "markdown",
   "metadata": {},
   "source": [
    "As we saw above, our target variable was skewed to the right, therefore we log-transform it to try to normalize its distribution."
   ]
  },
  {
   "cell_type": "code",
   "execution_count": 48,
   "metadata": {
    "ExecuteTime": {
     "end_time": "2019-03-13T22:34:17.879075Z",
     "start_time": "2019-03-13T22:34:17.871767Z"
    }
   },
   "outputs": [],
   "source": [
    "subset = subset.withColumn(\"log_plays\",log1p(\"plays\"))"
   ]
  },
  {
   "cell_type": "code",
   "execution_count": 33,
   "metadata": {
    "ExecuteTime": {
     "end_time": "2019-03-13T22:32:32.375328Z",
     "start_time": "2019-03-13T22:32:22.779147Z"
    }
   },
   "outputs": [],
   "source": [
    "subset_pd = subset.sample(withReplacement=False, fraction=0.01, seed=42).toPandas()"
   ]
  },
  {
   "cell_type": "code",
   "execution_count": 34,
   "metadata": {
    "ExecuteTime": {
     "end_time": "2019-03-13T22:32:32.630562Z",
     "start_time": "2019-03-13T22:32:32.377288Z"
    },
    "scrolled": false
   },
   "outputs": [
    {
     "data": {
      "image/png": "[encoded data removed]",
      "text/plain": [
       "<Figure size 1080x432 with 1 Axes>"
      ]
     },
     "metadata": {
      "needs_background": "light"
     },
     "output_type": "display_data"
    }
   ],
   "source": [
    "plt.subplots(figsize=(15, 6))\n",
    "sns.distplot(subset_pd.log_plays)\n",
    "plt.grid(which=\"major\", axis=\"y\")\n",
    "plt.xlabel(\"Play Count\", size=14)\n",
    "plt.title(\"Play Count Distribution\", size=16);"
   ]
  },
  {
   "cell_type": "markdown",
   "metadata": {},
   "source": [
    "## Train / Test Split"
   ]
  },
  {
   "cell_type": "code",
   "execution_count": 49,
   "metadata": {
    "ExecuteTime": {
     "end_time": "2019-03-13T22:34:26.432440Z",
     "start_time": "2019-03-13T22:34:26.424623Z"
    },
    "colab": {},
    "colab_type": "code",
    "id": "NnSz0AXV8kH2"
   },
   "outputs": [],
   "source": [
    "train, test = subset.randomSplit([0.8, 0.2], seed=42)"
   ]
  },
  {
   "cell_type": "markdown",
   "metadata": {
    "colab_type": "text",
    "id": "vn5Ce5KH5iNe"
   },
   "source": [
    "## Base ALS Model\n",
    "Base ALS model with no optimization."
   ]
  },
  {
   "cell_type": "code",
   "execution_count": 36,
   "metadata": {
    "ExecuteTime": {
     "end_time": "2019-03-13T22:32:32.703817Z",
     "start_time": "2019-03-13T22:32:32.657354Z"
    },
    "colab": {},
    "colab_type": "code",
    "id": "msJGAAQp8Vep"
   },
   "outputs": [],
   "source": [
    "from pyspark.ml.recommendation import ALS\n",
    "from pyspark.ml.evaluation import RegressionEvaluator\n",
    "from pyspark.mllib.evaluation import BinaryClassificationMetrics"
   ]
  },
  {
   "cell_type": "code",
   "execution_count": 37,
   "metadata": {
    "ExecuteTime": {
     "end_time": "2019-03-13T22:32:32.760223Z",
     "start_time": "2019-03-13T22:32:32.705554Z"
    },
    "colab": {},
    "colab_type": "code",
    "id": "ULh0xHdO7-T0"
   },
   "outputs": [],
   "source": [
    "als = ALS(maxIter=5, regParam=0.01, userCol='userid', itemCol='artistid', ratingCol='log_plays')"
   ]
  },
  {
   "cell_type": "code",
   "execution_count": 50,
   "metadata": {
    "ExecuteTime": {
     "end_time": "2019-03-13T22:34:59.096384Z",
     "start_time": "2019-03-13T22:34:33.492678Z"
    },
    "colab": {},
    "colab_type": "code",
    "id": "pFUtIHbg8E5n",
    "scrolled": false
   },
   "outputs": [],
   "source": [
    "model = als.fit(train)"
   ]
  },
  {
   "cell_type": "code",
   "execution_count": 138,
   "metadata": {
    "ExecuteTime": {
     "end_time": "2019-03-13T23:19:45.344219Z",
     "start_time": "2019-03-13T23:19:45.330789Z"
    },
    "colab": {},
    "colab_type": "code",
    "id": "kgamBXH28J3l"
   },
   "outputs": [],
   "source": [
    "predictions = model.transform(test)"
   ]
  },
  {
   "cell_type": "code",
   "execution_count": 139,
   "metadata": {
    "ExecuteTime": {
     "end_time": "2019-03-13T23:19:45.560790Z",
     "start_time": "2019-03-13T23:19:45.554689Z"
    },
    "colab": {},
    "colab_type": "code",
    "id": "d9dd6rBS8P7Y"
   },
   "outputs": [],
   "source": [
    "predictions = predictions.dropna(subset=('prediction'))"
   ]
  },
  {
   "cell_type": "code",
   "execution_count": 140,
   "metadata": {
    "ExecuteTime": {
     "end_time": "2019-03-13T23:19:54.347853Z",
     "start_time": "2019-03-13T23:19:45.884454Z"
    },
    "colab": {},
    "colab_type": "code",
    "id": "pYhjxMM-8Wum",
    "scrolled": false
   },
   "outputs": [
    {
     "name": "stdout",
     "output_type": "stream",
     "text": [
      "+-------+--------+-----+------------------+----------+\n",
      "| userid|artistid|plays|         log_plays|prediction|\n",
      "+-------+--------+-----+------------------+----------+\n",
      "|1026623|      22|   90|  4.51085950651685| 3.0804894|\n",
      "|1034321|      22|   47|3.8712010109078907|   4.90341|\n",
      "|1065798|      22|   10|2.3978952727983707|  2.551156|\n",
      "|2118415|      22|   11|2.4849066497880004| 3.5689409|\n",
      "|2026886|      23|   19| 2.995732273553991|  2.051199|\n",
      "|2176976|      23|   17|2.8903717578961645| 1.8093895|\n",
      "|2213999|      23|   18|2.9444389791664403| 2.9078264|\n",
      "|2327206|      23|    6|1.9459101490553132| 1.7415116|\n",
      "|2060053|      23|   32|3.4965075614664802| 1.6686716|\n",
      "|2065317|      23|   48|3.8918202981106265| 2.3710458|\n",
      "|1005157|      24|   12|2.5649493574615367| 2.6763113|\n",
      "|1051303|      24|    5| 1.791759469228055|  2.112789|\n",
      "|1071243|      24|   32|3.4965075614664802|   3.41593|\n",
      "|2047761|      24|   13| 2.639057329615259| 2.3802383|\n",
      "|2070889|      24|   69| 4.248495242049359| 3.1962953|\n",
      "|2091925|      24|    8|2.1972245773362196| 2.2294757|\n",
      "|2185468|      24|    8|2.1972245773362196| 3.4928234|\n",
      "|2240511|      24|    6|1.9459101490553132|  3.299822|\n",
      "|2255010|      24|    7|2.0794415416798357|  3.065326|\n",
      "|2287497|      24|   31|3.4657359027997265|  2.562894|\n",
      "+-------+--------+-----+------------------+----------+\n",
      "only showing top 20 rows\n",
      "\n"
     ]
    }
   ],
   "source": [
    "predictions.show()"
   ]
  },
  {
   "cell_type": "code",
   "execution_count": 54,
   "metadata": {
    "ExecuteTime": {
     "end_time": "2019-03-13T22:35:25.879962Z",
     "start_time": "2019-03-13T22:35:15.687064Z"
    },
    "colab": {},
    "colab_type": "code",
    "id": "zq5x0wpB9fQh"
   },
   "outputs": [],
   "source": [
    "evaluator_rmse = RegressionEvaluator(metricName='rmse', labelCol='log_plays', predictionCol='prediction')\n",
    "rmse = evaluator_rmse.evaluate(predictions.na.drop()) "
   ]
  },
  {
   "cell_type": "code",
   "execution_count": 55,
   "metadata": {
    "ExecuteTime": {
     "end_time": "2019-03-13T22:35:39.546306Z",
     "start_time": "2019-03-13T22:35:30.197335Z"
    },
    "colab": {},
    "colab_type": "code",
    "id": "_zjlmSap9lXd"
   },
   "outputs": [],
   "source": [
    "evaluator_r2 = RegressionEvaluator(metricName='r2', labelCol='log_plays', predictionCol='prediction')\n",
    "r2 = evaluator_r2.evaluate(predictions.na.drop())\n"
   ]
  },
  {
   "cell_type": "code",
   "execution_count": null,
   "metadata": {
    "ExecuteTime": {
     "end_time": "2019-03-13T22:35:10.063010Z",
     "start_time": "2019-03-13T22:35:02.195Z"
    }
   },
   "outputs": [],
   "source": [
    "# RMSE\n",
    "# 0.9648000586786721\n",
    "\n",
    "# R Squared\n",
    "# 0.022719838880952192"
   ]
  },
  {
   "cell_type": "code",
   "execution_count": 56,
   "metadata": {
    "ExecuteTime": {
     "end_time": "2019-03-13T22:35:41.497157Z",
     "start_time": "2019-03-13T22:35:41.492392Z"
    },
    "colab": {},
    "colab_type": "code",
    "id": "oIOtHiWA9m1p",
    "scrolled": false
   },
   "outputs": [
    {
     "name": "stdout",
     "output_type": "stream",
     "text": [
      "RMSE (Log)\n",
      "0.9648764545544265\n",
      "\n",
      "RMSE\n",
      "1.6244633959448886\n",
      "\n",
      "R Squared\n",
      "0.02256506457511187\n",
      "\n"
     ]
    }
   ],
   "source": [
    "print('RMSE (Log)')\n",
    "print(rmse)\n",
    "print()\n",
    "print('RMSE')\n",
    "print(np.expm1(rmse))\n",
    "print()\n",
    "print('R Squared')\n",
    "print(r2)\n",
    "print()"
   ]
  },
  {
   "cell_type": "markdown",
   "metadata": {},
   "source": [
    "## Hyperparameter Optimization"
   ]
  },
  {
   "cell_type": "markdown",
   "metadata": {},
   "source": [
    "The following parameters should get consideration before training models:\n",
    "\n",
    "- `rank = 10`: the number of latent factors in the model, or equivalently, the number of columns $k$ in the user\n",
    "    feature and product-feature matrices. In non-trivial cases, this is also their rank.\n",
    "\n",
    "- `iterations = 20`: the number of iterations that the factorization runs. Instead of runing the algorithm until RMSE converged which actually takes very long time to finish with large datasets, we only let it run in a given number of iterations. More iterations take more time but may produce a better factorization.\n",
    "\n",
    "- `lambda_ = 0.01`: a standard overfitting parameter. Higher values resist overfitting, but values that are too high hurt the factorization's accuracy.\n",
    "\n",
    "- `alpha = 1.0`: controls the relative weight of observed versus unobserved userproduct interactions in the factorization.\n",
    "\n",
    "Although all of them have impact on the models' quality, `iterations` is more of a constraint on resources used in the factorization. So, `rank`, `lambda_` and `alpha` can be considered hyperparameters to the model. "
   ]
  },
  {
   "cell_type": "code",
   "execution_count": 57,
   "metadata": {
    "ExecuteTime": {
     "end_time": "2019-03-13T22:37:46.031867Z",
     "start_time": "2019-03-13T22:37:46.028549Z"
    },
    "colab": {},
    "colab_type": "code",
    "id": "wX5zzfIm9ozw"
   },
   "outputs": [],
   "source": [
    "from pyspark.ml.tuning import CrossValidator, ParamGridBuilder"
   ]
  },
  {
   "cell_type": "code",
   "execution_count": 58,
   "metadata": {
    "ExecuteTime": {
     "end_time": "2019-03-13T22:37:46.039078Z",
     "start_time": "2019-03-13T22:37:46.034536Z"
    },
    "colab": {},
    "colab_type": "code",
    "id": "xQ_zVn5A8opq"
   },
   "outputs": [],
   "source": [
    "paramGrid = ParamGridBuilder().addGrid(als.rank, [1, 5, 10, 20]).addGrid(als.maxIter, [20]).addGrid(als.regParam, [0.001, 0.005, 0.01, 0.1]).build()"
   ]
  },
  {
   "cell_type": "code",
   "execution_count": 59,
   "metadata": {
    "ExecuteTime": {
     "end_time": "2019-03-13T22:37:46.081184Z",
     "start_time": "2019-03-13T22:37:46.041022Z"
    },
    "colab": {},
    "colab_type": "code",
    "id": "Z7Wc6pnG8osZ"
   },
   "outputs": [],
   "source": [
    "als_cv = ALS(userCol='userid', itemCol='artistid', ratingCol='log_plays')\n",
    "\n",
    "crossval = CrossValidator(estimator=als_cv, estimatorParamMaps=paramGrid, evaluator=evaluator_rmse, numFolds=3)"
   ]
  },
  {
   "cell_type": "code",
   "execution_count": 60,
   "metadata": {
    "ExecuteTime": {
     "end_time": "2019-03-13T22:54:53.524453Z",
     "start_time": "2019-03-13T22:37:46.085379Z"
    },
    "colab": {},
    "colab_type": "code",
    "id": "dLlc7jhz8ovR"
   },
   "outputs": [],
   "source": [
    "cvModel = crossval.fit(train)"
   ]
  },
  {
   "cell_type": "code",
   "execution_count": 61,
   "metadata": {
    "ExecuteTime": {
     "end_time": "2019-03-13T22:54:53.541627Z",
     "start_time": "2019-03-13T22:54:53.528220Z"
    },
    "colab": {},
    "colab_type": "code",
    "id": "aImF2bNZ8oyc"
   },
   "outputs": [],
   "source": [
    "predictions_cv = cvModel.transform(test)"
   ]
  },
  {
   "cell_type": "code",
   "execution_count": 62,
   "metadata": {
    "ExecuteTime": {
     "end_time": "2019-03-13T22:55:13.083709Z",
     "start_time": "2019-03-13T22:54:53.543271Z"
    },
    "colab": {},
    "colab_type": "code",
    "id": "zMpU5qz88o07"
   },
   "outputs": [],
   "source": [
    "rmse_cv = evaluator_rmse.evaluate(predictions_cv.na.drop())\n",
    "r2_cv = evaluator_r2.evaluate(predictions_cv.na.drop())"
   ]
  },
  {
   "cell_type": "code",
   "execution_count": 109,
   "metadata": {
    "ExecuteTime": {
     "end_time": "2019-03-13T23:08:08.293528Z",
     "start_time": "2019-03-13T23:07:59.203910Z"
    },
    "scrolled": false
   },
   "outputs": [
    {
     "name": "stdout",
     "output_type": "stream",
     "text": [
      "+-------+--------+-----+------------------+----------+\n",
      "| userid|artistid|plays|         log_plays|prediction|\n",
      "+-------+--------+-----+------------------+----------+\n",
      "|1026623|      22|   90|  4.51085950651685| 2.5799642|\n",
      "|1034321|      22|   47|3.8712010109078907| 3.6716945|\n",
      "|1065798|      22|   10|2.3978952727983707| 2.5890229|\n",
      "|2118415|      22|   11|2.4849066497880004|  2.756516|\n",
      "|2026886|      23|   19| 2.995732273553991|  2.670317|\n",
      "|2176976|      23|   17|2.8903717578961645| 2.2951388|\n",
      "|2213999|      23|   18|2.9444389791664403| 2.2533238|\n",
      "|2327206|      23|    6|1.9459101490553132| 2.1248004|\n",
      "|2060053|      23|   32|3.4965075614664802| 2.4041138|\n",
      "|2065317|      23|   48|3.8918202981106265| 2.8035102|\n",
      "|1005157|      24|   12|2.5649493574615367| 2.9949515|\n",
      "|1051303|      24|    5| 1.791759469228055| 2.5349863|\n",
      "|1071243|      24|   32|3.4965075614664802| 3.0196362|\n",
      "|2047761|      24|   13| 2.639057329615259| 2.5116944|\n",
      "|2070889|      24|   69| 4.248495242049359| 2.5620253|\n",
      "|2091925|      24|    8|2.1972245773362196| 2.3043783|\n",
      "|2185468|      24|    8|2.1972245773362196|  2.527237|\n",
      "|2240511|      24|    6|1.9459101490553132| 2.5322661|\n",
      "|2255010|      24|    7|2.0794415416798357| 2.8545742|\n",
      "|2287497|      24|   31|3.4657359027997265|   2.56657|\n",
      "+-------+--------+-----+------------------+----------+\n",
      "only showing top 20 rows\n",
      "\n"
     ]
    }
   ],
   "source": [
    "predictions_cv.show()"
   ]
  },
  {
   "cell_type": "code",
   "execution_count": 63,
   "metadata": {
    "ExecuteTime": {
     "end_time": "2019-03-13T22:55:13.095539Z",
     "start_time": "2019-03-13T22:55:13.085641Z"
    },
    "colab": {},
    "colab_type": "code",
    "id": "nUg60d9zg599",
    "scrolled": false
   },
   "outputs": [
    {
     "name": "stdout",
     "output_type": "stream",
     "text": [
      "RMSE (Log)\n",
      "0.8645573534915653\n",
      "\n",
      "RMSE\n",
      "1.3739550304658306\n",
      "\n",
      "R Squared\n",
      "0.21524867383443358\n"
     ]
    }
   ],
   "source": [
    "print('RMSE (Log)')\n",
    "print(rmse_cv)\n",
    "print()\n",
    "print('RMSE')\n",
    "print(np.expm1(rmse_cv))\n",
    "print()\n",
    "print('R Squared')\n",
    "print(r2_cv)"
   ]
  },
  {
   "cell_type": "markdown",
   "metadata": {},
   "source": [
    "### Get Best Hyperparameters"
   ]
  },
  {
   "cell_type": "code",
   "execution_count": null,
   "metadata": {
    "ExecuteTime": {
     "end_time": "2019-03-13T19:03:49.404805Z",
     "start_time": "2019-03-13T19:01:04.351Z"
    },
    "scrolled": false
   },
   "outputs": [],
   "source": [
    "#{maxIter: 20, regParam: 0.001, rank: 1}"
   ]
  },
  {
   "cell_type": "code",
   "execution_count": 65,
   "metadata": {
    "ExecuteTime": {
     "end_time": "2019-03-13T22:56:56.930152Z",
     "start_time": "2019-03-13T22:56:56.926294Z"
    },
    "scrolled": false
   },
   "outputs": [
    {
     "data": {
      "text/plain": [
       "\"estimator: estimator to be cross-validated (current: ALS_cadd011f218e)\\nestimatorParamMaps: estimator param maps (current: [{Param(parent='ALS_56f8bd4d568e', name='rank', doc='rank of the factorization'): 1, Param(parent='ALS_56f8bd4d568e', name='maxIter', doc='max number of iterations (>= 0).'): 20, Param(parent='ALS_56f8bd4d568e', name='regParam', doc='regularization parameter (>= 0).'): 0.001}, {Param(parent='ALS_56f8bd4d568e', name='rank', doc='rank of the factorization'): 1, Param(parent='ALS_56f8bd4d568e', name='maxIter', doc='max number of iterations (>= 0).'): 20, Param(parent='ALS_56f8bd4d568e', name='regParam', doc='regularization parameter (>= 0).'): 0.005}, {Param(parent='ALS_56f8bd4d568e', name='rank', doc='rank of the factorization'): 1, Param(parent='ALS_56f8bd4d568e', name='maxIter', doc='max number of iterations (>= 0).'): 20, Param(parent='ALS_56f8bd4d568e', name='regParam', doc='regularization parameter (>= 0).'): 0.01}, {Param(parent='ALS_56f8bd4d568e', name='rank', doc='rank of the factorization'): 1, Param(parent='ALS_56f8bd4d568e', name='maxIter', doc='max number of iterations (>= 0).'): 20, Param(parent='ALS_56f8bd4d568e', name='regParam', doc='regularization parameter (>= 0).'): 0.1}, {Param(parent='ALS_56f8bd4d568e', name='rank', doc='rank of the factorization'): 5, Param(parent='ALS_56f8bd4d568e', name='maxIter', doc='max number of iterations (>= 0).'): 20, Param(parent='ALS_56f8bd4d568e', name='regParam', doc='regularization parameter (>= 0).'): 0.001}, {Param(parent='ALS_56f8bd4d568e', name='rank', doc='rank of the factorization'): 5, Param(parent='ALS_56f8bd4d568e', name='maxIter', doc='max number of iterations (>= 0).'): 20, Param(parent='ALS_56f8bd4d568e', name='regParam', doc='regularization parameter (>= 0).'): 0.005}, {Param(parent='ALS_56f8bd4d568e', name='rank', doc='rank of the factorization'): 5, Param(parent='ALS_56f8bd4d568e', name='maxIter', doc='max number of iterations (>= 0).'): 20, Param(parent='ALS_56f8bd4d568e', name='regParam', doc='regularization parameter (>= 0).'): 0.01}, {Param(parent='ALS_56f8bd4d568e', name='rank', doc='rank of the factorization'): 5, Param(parent='ALS_56f8bd4d568e', name='maxIter', doc='max number of iterations (>= 0).'): 20, Param(parent='ALS_56f8bd4d568e', name='regParam', doc='regularization parameter (>= 0).'): 0.1}, {Param(parent='ALS_56f8bd4d568e', name='rank', doc='rank of the factorization'): 10, Param(parent='ALS_56f8bd4d568e', name='maxIter', doc='max number of iterations (>= 0).'): 20, Param(parent='ALS_56f8bd4d568e', name='regParam', doc='regularization parameter (>= 0).'): 0.001}, {Param(parent='ALS_56f8bd4d568e', name='rank', doc='rank of the factorization'): 10, Param(parent='ALS_56f8bd4d568e', name='maxIter', doc='max number of iterations (>= 0).'): 20, Param(parent='ALS_56f8bd4d568e', name='regParam', doc='regularization parameter (>= 0).'): 0.005}, {Param(parent='ALS_56f8bd4d568e', name='rank', doc='rank of the factorization'): 10, Param(parent='ALS_56f8bd4d568e', name='maxIter', doc='max number of iterations (>= 0).'): 20, Param(parent='ALS_56f8bd4d568e', name='regParam', doc='regularization parameter (>= 0).'): 0.01}, {Param(parent='ALS_56f8bd4d568e', name='rank', doc='rank of the factorization'): 10, Param(parent='ALS_56f8bd4d568e', name='maxIter', doc='max number of iterations (>= 0).'): 20, Param(parent='ALS_56f8bd4d568e', name='regParam', doc='regularization parameter (>= 0).'): 0.1}, {Param(parent='ALS_56f8bd4d568e', name='rank', doc='rank of the factorization'): 20, Param(parent='ALS_56f8bd4d568e', name='maxIter', doc='max number of iterations (>= 0).'): 20, Param(parent='ALS_56f8bd4d568e', name='regParam', doc='regularization parameter (>= 0).'): 0.001}, {Param(parent='ALS_56f8bd4d568e', name='rank', doc='rank of the factorization'): 20, Param(parent='ALS_56f8bd4d568e', name='maxIter', doc='max number of iterations (>= 0).'): 20, Param(parent='ALS_56f8bd4d568e', name='regParam', doc='regularization parameter (>= 0).'): 0.005}, {Param(parent='ALS_56f8bd4d568e', name='rank', doc='rank of the factorization'): 20, Param(parent='ALS_56f8bd4d568e', name='maxIter', doc='max number of iterations (>= 0).'): 20, Param(parent='ALS_56f8bd4d568e', name='regParam', doc='regularization parameter (>= 0).'): 0.01}, {Param(parent='ALS_56f8bd4d568e', name='rank', doc='rank of the factorization'): 20, Param(parent='ALS_56f8bd4d568e', name='maxIter', doc='max number of iterations (>= 0).'): 20, Param(parent='ALS_56f8bd4d568e', name='regParam', doc='regularization parameter (>= 0).'): 0.1}])\\nevaluator: evaluator used to select hyper-parameters that maximize the validator metric (current: RegressionEvaluator_d2b0e09ae5b3)\\nseed: random seed. (default: 8519257970494056937)\""
      ]
     },
     "execution_count": 65,
     "metadata": {},
     "output_type": "execute_result"
    }
   ],
   "source": [
    "cvModel.explainParams()"
   ]
  },
  {
   "cell_type": "markdown",
   "metadata": {},
   "source": [
    "---"
   ]
  },
  {
   "cell_type": "markdown",
   "metadata": {},
   "source": [
    "## Findings and Recommendations"
   ]
  },
  {
   "cell_type": "markdown",
   "metadata": {},
   "source": [
    "In this section we will show the results of the analysis and some recommendations for useres."
   ]
  },
  {
   "cell_type": "markdown",
   "metadata": {},
   "source": [
    "### Show Top 10 Recommendations For Each User and Artist"
   ]
  },
  {
   "cell_type": "code",
   "execution_count": 66,
   "metadata": {
    "ExecuteTime": {
     "end_time": "2019-03-13T22:57:12.583585Z",
     "start_time": "2019-03-13T22:57:12.264941Z"
    },
    "colab": {},
    "colab_type": "code",
    "id": "cMZE69VcDqkB"
   },
   "outputs": [],
   "source": [
    "# Generate top 10 movie recommendations for each user\n",
    "userRecs = model.recommendForAllUsers(10)\n",
    "# Generate top 10 user recommendations for each artist\n",
    "artistRecs = model.recommendForAllItems(10)\n"
   ]
  },
  {
   "cell_type": "code",
   "execution_count": null,
   "metadata": {
    "ExecuteTime": {
     "end_time": "2019-03-13T19:03:49.410011Z",
     "start_time": "2019-03-13T19:01:04.357Z"
    },
    "colab": {},
    "colab_type": "code",
    "id": "OznX8l-QEdXF"
   },
   "outputs": [],
   "source": [
    "#userRecs.head().show()"
   ]
  },
  {
   "cell_type": "code",
   "execution_count": null,
   "metadata": {
    "ExecuteTime": {
     "end_time": "2019-03-13T19:03:49.411675Z",
     "start_time": "2019-03-13T19:01:04.359Z"
    },
    "colab": {},
    "colab_type": "code",
    "id": "X8OapGlLYh5V"
   },
   "outputs": [],
   "source": [
    "#artistRecs.show()"
   ]
  },
  {
   "cell_type": "markdown",
   "metadata": {},
   "source": [
    "### Top 10 Artists Per Play Counts"
   ]
  },
  {
   "cell_type": "code",
   "execution_count": 99,
   "metadata": {
    "ExecuteTime": {
     "end_time": "2019-03-13T23:04:12.367770Z",
     "start_time": "2019-03-13T23:04:01.427736Z"
    },
    "scrolled": false
   },
   "outputs": [
    {
     "data": {
      "image/png": "[encoded data removed]",
      "text/plain": [
       "<Figure size 1080x432 with 1 Axes>"
      ]
     },
     "metadata": {
      "needs_background": "light"
     },
     "output_type": "display_data"
    }
   ],
   "source": [
    "top10ArtistsPC = subset.groupBy(\"name\").sum(\"plays\").orderBy('sum(plays)', ascending=0).take(10)\n",
    "top10ArtistsPC = pd.DataFrame(data=top10ArtistsPC)\n",
    "\n",
    "plt.subplots(figsize=(15, 6))\n",
    "sns.barplot(x=top10ArtistsPC[1]/1000000, y=top10ArtistsPC[0])\n",
    "plt.xlabel('Play Count  (in millions)')\n",
    "plt.ylabel('Artist')\n",
    "plt.title('Top-10 Artists per play counts');"
   ]
  },
  {
   "cell_type": "markdown",
   "metadata": {},
   "source": [
    "### Top-10 Artists Per Audience Size"
   ]
  },
  {
   "cell_type": "code",
   "execution_count": 100,
   "metadata": {
    "ExecuteTime": {
     "end_time": "2019-03-13T23:04:36.595093Z",
     "start_time": "2019-03-13T23:04:21.612730Z"
    }
   },
   "outputs": [
    {
     "data": {
      "image/png": "[encoded data removed]",
      "text/plain": [
       "<Figure size 1080x432 with 1 Axes>"
      ]
     },
     "metadata": {
      "needs_background": "light"
     },
     "output_type": "display_data"
    }
   ],
   "source": [
    "top10ArtistsUC = (subset.dropDuplicates(['userid', 'artistid']).groupBy(\"name\").count().orderBy(\"count\", ascending=0).take(10))\n",
    "top10ArtistsUC = pd.DataFrame(top10ArtistsUC)\n",
    "\n",
    "plt.subplots(figsize=(15, 6))\n",
    "sns.barplot(x=top10ArtistsPC[1]/1000000, y=top10ArtistsUC[0])\n",
    "plt.xlabel('Audience size (in millions)')\n",
    "plt.ylabel('Artist')\n",
    "plt.title('Top-10 Artists per audience size');"
   ]
  },
  {
   "cell_type": "markdown",
   "metadata": {},
   "source": [
    "### Top 10 Users (Play Count)"
   ]
  },
  {
   "cell_type": "code",
   "execution_count": 101,
   "metadata": {
    "ExecuteTime": {
     "end_time": "2019-03-13T23:04:52.429869Z",
     "start_time": "2019-03-13T23:04:41.938215Z"
    },
    "colab": {},
    "colab_type": "code",
    "id": "Dk3slKQQYy3P"
   },
   "outputs": [
    {
     "data": {
      "image/png": "[encoded data removed]",
      "text/plain": [
       "<Figure size 1080x432 with 1 Axes>"
      ]
     },
     "metadata": {
      "needs_background": "light"
     },
     "output_type": "display_data"
    }
   ],
   "source": [
    "# calculate top 10 users interm of play counts\n",
    "top10UsersByPlayCount = subset.groupBy(\"userid\").sum(\"plays\").orderBy('sum(plays)', ascending=0).take(10)\n",
    "top10UsersByPlayCount = pd.DataFrame(top10UsersByPlayCount)\n",
    "top10UsersByPlayCount[0] = top10UsersByPlayCount[0].astype(str)\n",
    "topusers = top10UsersByPlayCount[0].astype(str)\n",
    "top10UsersByPlayCount[0] = pd.DataFrame(topusers)\n",
    "top10UsersByPlayCount.set_index(topusers.sort_values(ascending=True), inplace=True)\n",
    "top10UsersByPlayCount.drop(columns=0)\n",
    "\n",
    "top10UsersByPlayCount.plot(kind='barh', figsize=(15,6))\n",
    "plt.xlabel('Play Count')\n",
    "plt.ylabel('User')\n",
    "plt.title('Top-10 Users per play counts');"
   ]
  },
  {
   "cell_type": "markdown",
   "metadata": {},
   "source": [
    "### Top 10 Users (Curiosity)"
   ]
  },
  {
   "cell_type": "code",
   "execution_count": 102,
   "metadata": {
    "ExecuteTime": {
     "end_time": "2019-03-13T23:05:20.686371Z",
     "start_time": "2019-03-13T23:05:02.270038Z"
    }
   },
   "outputs": [
    {
     "data": {
      "image/png": "[encoded data removed]",
      "text/plain": [
       "<Figure size 1080x432 with 1 Axes>"
      ]
     },
     "metadata": {
      "needs_background": "light"
     },
     "output_type": "display_data"
    }
   ],
   "source": [
    "# calculate top 10 users interm of curiosity\n",
    "top10UsersByCuriosity = (subset.dropDuplicates(['userid', 'name'])\n",
    "                          .groupBy(str(\"userid\"))\n",
    "                          .count()\n",
    "                          .orderBy(\"count\", ascending=0)\n",
    "                          .take(10))\n",
    "\n",
    "top10UsersByCuriosity = pd.DataFrame(top10UsersByCuriosity)\n",
    "\n",
    "top10UsersByCuriosity[0] = top10UsersByCuriosity[0].astype(str)\n",
    "topusers = top10UsersByCuriosity[0].astype(str)\n",
    "top10UsersByCuriosity[0] = pd.DataFrame(topusers)\n",
    "top10UsersByCuriosity.set_index(topusers.sort_values(ascending=True), inplace=True)\n",
    "top10UsersByCuriosity.drop(columns=0)\n",
    "\n",
    "top10UsersByCuriosity.plot(kind='barh', figsize=(15,6))\n",
    "plt.xlabel('Count')\n",
    "plt.ylabel('User')\n",
    "plt.title('Top-10 Users per curiosity');"
   ]
  },
  {
   "cell_type": "markdown",
   "metadata": {},
   "source": [
    "### Show Predictions For a Single User"
   ]
  },
  {
   "cell_type": "markdown",
   "metadata": {},
   "source": [
    "First we will merge the final datasets to have the artist name instead of the ID and dropping the duplicates, then we proceed to scale predictions to make them easier to interpret. "
   ]
  },
  {
   "cell_type": "code",
   "execution_count": 144,
   "metadata": {
    "ExecuteTime": {
     "end_time": "2019-03-13T23:27:52.555225Z",
     "start_time": "2019-03-13T23:27:52.538413Z"
    }
   },
   "outputs": [],
   "source": [
    "predictions = predictions.join(subset.drop(subset['userid']).drop(subset['plays']), on=\"artistid\").dropDuplicates()"
   ]
  },
  {
   "cell_type": "code",
   "execution_count": 146,
   "metadata": {
    "ExecuteTime": {
     "end_time": "2019-03-13T23:28:33.490423Z",
     "start_time": "2019-03-13T23:28:33.455616Z"
    }
   },
   "outputs": [],
   "source": [
    "predictions = predictions.withColumn('scaled_prediction', (predictions[\"prediction\"]+9.208462)/(15.73186+9.208462))"
   ]
  },
  {
   "cell_type": "markdown",
   "metadata": {},
   "source": [
    "We now create a function to show the top predictions for any user."
   ]
  },
  {
   "cell_type": "code",
   "execution_count": 164,
   "metadata": {
    "ExecuteTime": {
     "end_time": "2019-03-13T23:47:08.184210Z",
     "start_time": "2019-03-13T23:47:08.178837Z"
    },
    "colab": {},
    "colab_type": "code",
    "id": "AdC--nLgyUkx"
   },
   "outputs": [],
   "source": [
    "def user_predictions(user):\n",
    "    single_user = predictions.filter(test[\"userid\"] == user).select(\n",
    "        [\"userid\", \"name\", \"scaled_prediction\"]\n",
    "    )\n",
    "    single_user.withColumn(\"artist\", (single_user[\"name\"])).drop(\n",
    "        single_user[\"name\"]\n",
    "    ).orderBy(\"scaled_prediction\", ascending=False).show(truncate=False)\n",
    "options = [2060053, 1024631, 1026623, 1000002, 1071243, 1026623, 1071243, 2091925, 2287497, 2327206, 1005157, 2060053, 1024631, 1026623, 1000002, 1071243, 1026623, 1071243, 2091925, 2287497, 2327206, 1005157]\n",
    "\n"
   ]
  },
  {
   "cell_type": "markdown",
   "metadata": {},
   "source": [
    "Here we make use of widgets to create an interactive drop-down menu to query predictions based on the chosen user."
   ]
  },
  {
   "cell_type": "code",
   "execution_count": 173,
   "metadata": {
    "ExecuteTime": {
     "end_time": "2019-03-13T23:55:49.849643Z",
     "start_time": "2019-03-13T23:55:32.722746Z"
    }
   },
   "outputs": [
    {
     "data": {
      "application/vnd.jupyter.widget-view+json": {
       "model_id": "ce9c2a63b41644f585a7c9f223ee174d",
       "version_major": 2,
       "version_minor": 0
      },
      "text/plain": [
       "interactive(children=(Dropdown(description='user', options=(2060053, 1024631, 1026623, 1000002, 1071243, 10266…"
      ]
     },
     "metadata": {},
     "output_type": "display_data"
    }
   ],
   "source": [
    "interact(user_predictions, user=options);"
   ]
  },
  {
   "cell_type": "markdown",
   "metadata": {},
   "source": [
    "## Possible Improvements\n",
    "\n",
    "Here we tried only a few combination of parameters by lack of time. If this application had a real commercial purpose, we would have used an algorithm like gradient descent on a function like accuracy = f(rank, lambda, alpha). Because it could have taken a lot of time to find the optimal parameters, but we wouldn't have needed to do the gradient descent again for each training. Furthermore, we could change the iteration parameter but it would impact the training performance. Again it depends on the use of our recommendation algorithm. If we consider that a single model could get meaningful recommendations for several weeks, we could allow ourselves to increase the number of iterations (therefore increasing the creation time of the model)."
   ]
  },
  {
   "cell_type": "markdown",
   "metadata": {},
   "source": [
    "## Summary\n",
    "\n",
    "In this notebook, we introduce an algorithm to do matrix factorization and the way of using it to make recommendation. Further more, we studied how to build a large-scale recommender system on SPARK using ALS algorithm and evaluate its quality. Finally, a simple approach to choose good parameters is mentioned."
   ]
  }
 ],
 "metadata": {
  "accelerator": "GPU",
  "colab": {
   "collapsed_sections": [
    "kvD4HBMi0ohY",
    "b4Kjvk_h1AHl",
    "Y_2Cd36sWuvN"
   ],
   "name": "Copy of Music Recommender.ipynb",
   "private_outputs": true,
   "provenance": [],
   "version": "0.3.2"
  },
  "kernelspec": {
   "display_name": "Python 3",
   "language": "python",
   "name": "python3"
  },
  "language_info": {
   "codemirror_mode": {
    "name": "ipython",
    "version": 3
   },
   "file_extension": ".py",
   "mimetype": "text/x-python",
   "name": "python",
   "nbconvert_exporter": "python",
   "pygments_lexer": "ipython3",
   "version": "3.7.1"
  },
  "varInspector": {
   "cols": {
    "lenName": 16,
    "lenType": 16,
    "lenVar": 40
   },
   "kernels_config": {
    "python": {
     "delete_cmd_postfix": "",
     "delete_cmd_prefix": "del ",
     "library": "var_list.py",
     "varRefreshCmd": "print(var_dic_list())"
    },
    "r": {
     "delete_cmd_postfix": ") ",
     "delete_cmd_prefix": "rm(",
     "library": "var_list.r",
     "varRefreshCmd": "cat(var_dic_list()) "
    }
   },
   "types_to_exclude": [
    "module",
    "function",
    "builtin_function_or_method",
    "instance",
    "_Feature"
   ],
   "window_display": false
  },
  "widgets": {
   "application/vnd.jupyter.widget-state+json": {
    "state": {
     "1606c8922ac74730b9ce689b71685328": {
      "model_module": "@jupyter-widgets/base",
      "model_module_version": "1.1.0",
      "model_name": "LayoutModel",
      "state": {}
     },
     "296c7412296a4980b80b591dbbb6950c": {
      "model_module": "@jupyter-widgets/controls",
      "model_module_version": "1.4.0",
      "model_name": "VBoxModel",
      "state": {
       "_dom_classes": [
        "widget-interact"
       ],
       "layout": "IPY_MODEL_7d8778ec6f2049d081e0a64b6c44f8dc"
      }
     },
     "2e32fa872f754317af896d9a6b138952": {
      "model_module": "@jupyter-widgets/base",
      "model_module_version": "1.1.0",
      "model_name": "LayoutModel",
      "state": {}
     },
     "2ea33f1ca76a478e9b21f6930b7d525e": {
      "model_module": "@jupyter-widgets/output",
      "model_module_version": "1.0.0",
      "model_name": "OutputModel",
      "state": {
       "layout": "IPY_MODEL_468c2c9b856248c984d577625062ae58",
       "outputs": [
        {
         "name": "stdout",
         "output_type": "stream",
         "text": "+-------+------------------+-----------------------+\n|userid |scaled_prediction |artist                 |\n+-------+------------------+-----------------------+\n|2060053|0.5444795839185727|NOFX                   |\n|2060053|0.5362587230122324|The Smashing Pumpkins  |\n|2060053|0.5344254091415077|The Get Up Kids        |\n|2060053|0.5334195328047778|Nine Inch Nails        |\n|2060053|0.5256240437727174|Eels                   |\n|2060053|0.5243537594833007|Pennywise              |\n|2060053|0.523292399442988 |Portishead             |\n|2060053|0.5208839918224645|Björk                  |\n|2060053|0.5204187948087764|Built to Spill         |\n|2060053|0.5199938435552681|Massive Attack         |\n|2060053|0.5115331045348683|The Microphones        |\n|2060053|0.5103122049478479|Hedwig & the Angry Inch|\n|2060053|0.5097808270795935|Live                   |\n|2060053|0.5095801144950961|Queen                  |\n|2060053|0.5092375571149819|The Dust Brothers      |\n|2060053|0.5082851665331702|Outkast                |\n|2060053|0.5045547191492126|Kenna                  |\n|2060053|0.5025292580624279|Zero 7                 |\n|2060053|0.5008548814859427|Black Eyed Peas        |\n|2060053|0.4958022413855432|Jem                    |\n+-------+------------------+-----------------------+\nonly showing top 20 rows\n\n"
        }
       ]
      }
     },
     "34cce44803e844a483f15a4e00912405": {
      "model_module": "@jupyter-widgets/controls",
      "model_module_version": "1.4.0",
      "model_name": "DropdownModel",
      "state": {
       "_options_labels": [
        "2060053",
        "1024631",
        "1026623",
        "1000002",
        "1071243",
        "1026623",
        "1071243",
        "2091925",
        "2287497",
        "2327206",
        "1005157",
        "2060053",
        "1024631",
        "1026623",
        "1000002",
        "1071243",
        "1026623",
        "1071243",
        "2091925",
        "2287497",
        "2327206",
        "1005157"
       ],
       "description": "user",
       "index": 0,
       "layout": "IPY_MODEL_a65c6432344b4e8b9939a714930957ce",
       "style": "IPY_MODEL_92e919829f734227b481a81085a553e4"
      }
     },
     "46846c4b6ac540d39f3c4e9c50f63302": {
      "model_module": "@jupyter-widgets/controls",
      "model_module_version": "1.4.0",
      "model_name": "VBoxModel",
      "state": {
       "_dom_classes": [
        "widget-interact"
       ],
       "layout": "IPY_MODEL_74b958756a994c658837c4ef65f383fc"
      }
     },
     "468c2c9b856248c984d577625062ae58": {
      "model_module": "@jupyter-widgets/base",
      "model_module_version": "1.1.0",
      "model_name": "LayoutModel",
      "state": {}
     },
     "74b958756a994c658837c4ef65f383fc": {
      "model_module": "@jupyter-widgets/base",
      "model_module_version": "1.1.0",
      "model_name": "LayoutModel",
      "state": {}
     },
     "7a8da83c4a104de887e5c984f0d58396": {
      "model_module": "@jupyter-widgets/base",
      "model_module_version": "1.1.0",
      "model_name": "LayoutModel",
      "state": {}
     },
     "7d8778ec6f2049d081e0a64b6c44f8dc": {
      "model_module": "@jupyter-widgets/base",
      "model_module_version": "1.1.0",
      "model_name": "LayoutModel",
      "state": {}
     },
     "81a4c00ed10f415f89c39a5fa68e4266": {
      "model_module": "@jupyter-widgets/controls",
      "model_module_version": "1.4.0",
      "model_name": "DescriptionStyleModel",
      "state": {
       "description_width": ""
      }
     },
     "8581d809a8c74c5fa5f076f572845854": {
      "model_module": "@jupyter-widgets/base",
      "model_module_version": "1.1.0",
      "model_name": "LayoutModel",
      "state": {}
     },
     "92e919829f734227b481a81085a553e4": {
      "model_module": "@jupyter-widgets/controls",
      "model_module_version": "1.4.0",
      "model_name": "DescriptionStyleModel",
      "state": {
       "description_width": ""
      }
     },
     "9960d849540049298b5d94e8175404d9": {
      "model_module": "@jupyter-widgets/controls",
      "model_module_version": "1.4.0",
      "model_name": "VBoxModel",
      "state": {
       "_dom_classes": [
        "widget-interact"
       ],
       "layout": "IPY_MODEL_8581d809a8c74c5fa5f076f572845854"
      }
     },
     "a65c6432344b4e8b9939a714930957ce": {
      "model_module": "@jupyter-widgets/base",
      "model_module_version": "1.1.0",
      "model_name": "LayoutModel",
      "state": {}
     },
     "a7abaf927b04479c9d85660011510f4e": {
      "model_module": "@jupyter-widgets/base",
      "model_module_version": "1.1.0",
      "model_name": "LayoutModel",
      "state": {}
     },
     "a8d31fe34dcc474eb0c6136529f1fdc0": {
      "model_module": "@jupyter-widgets/base",
      "model_module_version": "1.1.0",
      "model_name": "LayoutModel",
      "state": {}
     },
     "b52de230c15a457986ec033f2512dab6": {
      "model_module": "@jupyter-widgets/controls",
      "model_module_version": "1.4.0",
      "model_name": "VBoxModel",
      "state": {
       "_dom_classes": [
        "widget-interact"
       ],
       "layout": "IPY_MODEL_a8d31fe34dcc474eb0c6136529f1fdc0"
      }
     },
     "ce9c2a63b41644f585a7c9f223ee174d": {
      "model_module": "@jupyter-widgets/controls",
      "model_module_version": "1.4.0",
      "model_name": "VBoxModel",
      "state": {
       "_dom_classes": [
        "widget-interact"
       ],
       "children": [
        "IPY_MODEL_db0dffa2d25343d2ba194bf20c04ae04",
        "IPY_MODEL_2ea33f1ca76a478e9b21f6930b7d525e"
       ],
       "layout": "IPY_MODEL_f814411bf3fc4a26a4b5292638531ed8"
      }
     },
     "db0dffa2d25343d2ba194bf20c04ae04": {
      "model_module": "@jupyter-widgets/controls",
      "model_module_version": "1.4.0",
      "model_name": "DropdownModel",
      "state": {
       "_options_labels": [
        "2060053",
        "1024631",
        "1026623",
        "1000002",
        "1071243",
        "1026623",
        "1071243",
        "2091925",
        "2287497",
        "2327206",
        "1005157",
        "2060053",
        "1024631",
        "1026623",
        "1000002",
        "1071243",
        "1026623",
        "1071243",
        "2091925",
        "2287497",
        "2327206",
        "1005157"
       ],
       "description": "user",
       "index": 0,
       "layout": "IPY_MODEL_1606c8922ac74730b9ce689b71685328",
       "style": "IPY_MODEL_81a4c00ed10f415f89c39a5fa68e4266"
      }
     },
     "e62b6fb1b57f47da94e94f5e0d90d4db": {
      "model_module": "@jupyter-widgets/output",
      "model_module_version": "1.0.0",
      "model_name": "OutputModel",
      "state": {
       "layout": "IPY_MODEL_a7abaf927b04479c9d85660011510f4e",
       "outputs": [
        {
         "name": "stdout",
         "output_type": "stream",
         "text": "+-------+------------------+-----------------------+\n|userid |scaled_prediction |artist                 |\n+-------+------------------+-----------------------+\n|2060053|0.5444795839185727|NOFX                   |\n|2060053|0.5362587230122324|The Smashing Pumpkins  |\n|2060053|0.5344254091415077|The Get Up Kids        |\n|2060053|0.5334195328047778|Nine Inch Nails        |\n|2060053|0.5256240437727174|Eels                   |\n|2060053|0.5243537594833007|Pennywise              |\n|2060053|0.523292399442988 |Portishead             |\n|2060053|0.5208839918224645|Björk                  |\n|2060053|0.5204187948087764|Built to Spill         |\n|2060053|0.5199938435552681|Massive Attack         |\n|2060053|0.5115331045348683|The Microphones        |\n|2060053|0.5103122049478479|Hedwig & the Angry Inch|\n|2060053|0.5097808270795935|Live                   |\n|2060053|0.5095801144950961|Queen                  |\n|2060053|0.5092375571149819|The Dust Brothers      |\n|2060053|0.5082851665331702|Outkast                |\n|2060053|0.5045547191492126|Kenna                  |\n|2060053|0.5025292580624279|Zero 7                 |\n|2060053|0.5008548814859427|Black Eyed Peas        |\n|2060053|0.4958022413855432|Jem                    |\n+-------+------------------+-----------------------+\nonly showing top 20 rows\n\n"
        }
       ]
      }
     },
     "e7f807e2771d42deab347003e34af442": {
      "model_module": "@jupyter-widgets/controls",
      "model_module_version": "1.4.0",
      "model_name": "VBoxModel",
      "state": {
       "_dom_classes": [
        "widget-interact"
       ],
       "layout": "IPY_MODEL_7a8da83c4a104de887e5c984f0d58396"
      }
     },
     "ed046aececb14d7fa6bc031a74e47d87": {
      "model_module": "@jupyter-widgets/controls",
      "model_module_version": "1.4.0",
      "model_name": "VBoxModel",
      "state": {
       "_dom_classes": [
        "widget-interact"
       ],
       "children": [
        "IPY_MODEL_34cce44803e844a483f15a4e00912405",
        "IPY_MODEL_e62b6fb1b57f47da94e94f5e0d90d4db"
       ],
       "layout": "IPY_MODEL_2e32fa872f754317af896d9a6b138952"
      }
     },
     "f814411bf3fc4a26a4b5292638531ed8": {
      "model_module": "@jupyter-widgets/base",
      "model_module_version": "1.1.0",
      "model_name": "LayoutModel",
      "state": {}
     }
    },
    "version_major": 2,
    "version_minor": 0
   }
  }
 },
 "nbformat": 4,
 "nbformat_minor": 1
}
